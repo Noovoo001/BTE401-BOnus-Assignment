{
 "cells": [
  {
   "cell_type": "code",
   "execution_count": null,
   "metadata": {},
   "outputs": [],
   "source": [
    "import re\n",
    "\n",
    "def read_fasta_file(file_path):\n",
    "    with open(file_path, 'r') as fasta_file:\n",
    "        lines = fasta_file.readlines()\n",
    "\n",
    "    sequence = \"\".join(line.strip() for line in lines[1:])\n",
    "    return sequence\n",
    "\n",
    "def find_gene(sequence, promoter_sequence, max_distance=30, gene_length=50):\n",
    "    promoter_pattern = re.compile(promoter_sequence)\n",
    "    start_codon_pattern = re.compile(r'ATG')\n",
    "    stop_codon_pattern = re.compile(r'(TAA|TAG|TGA)')\n",
    "\n",
    "    promoter_match = promoter_pattern.search(sequence)\n",
    "    if promoter_match:\n",
    "        promoter_position = promoter_match.start()\n",
    "        sequence_after_promoter = sequence[promoter_position:]\n",
    "\n",
    "        start_codon_match = start_codon_pattern.search(sequence_after_promoter[:max_distance])\n",
    "        if start_codon_match:\n",
    "            start_codon_position = promoter_position + start_codon_match.start()\n",
    "            sequence_after_start_codon = sequence[start_codon_position:]\n",
    "\n",
    "            stop_codon_match = stop_codon_pattern.search(sequence_after_start_codon)\n",
    "            if stop_codon_match and (stop_codon_match.start() - start_codon_match.end()) >= gene_length:\n",
    "                return True\n",
    "\n",
    "    return False\n",
    "\n",
    "def main():\n",
    "    file_path = 'dna_sequence.fasta'  # Update with your file path\n",
    "    dna_sequence = read_fasta_file(file_path)\n",
    "\n",
    "    promoter_sequence = input(\"Enter the promoter sequence: \")\n",
    "\n",
    "    if find_gene(dna_sequence, promoter_sequence):\n",
    "        print(\"Gene found\")\n",
    "    else:\n",
    "        print(\"Gene not found\")\n",
    "\n",
    "if __name__ == \"__main__\":\n",
    "    main()\n"
   ]
  }
 ],
 "metadata": {
  "language_info": {
   "name": "python"
  },
  "orig_nbformat": 4
 },
 "nbformat": 4,
 "nbformat_minor": 2
}
